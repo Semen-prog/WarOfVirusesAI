{
 "cells": [
  {
   "cell_type": "code",
   "execution_count": 1,
   "metadata": {},
   "outputs": [],
   "source": [
    "from wovenv.ai.q_learning import QLearningAgent\n",
    "from wovenv.venv.env import Env\n",
    "from IPython.display import clear_output"
   ]
  },
  {
   "cell_type": "markdown",
   "metadata": {},
   "source": [
    "# Окружение и агент"
   ]
  },
  {
   "cell_type": "code",
   "execution_count": 2,
   "metadata": {},
   "outputs": [],
   "source": [
    "env = Env()\n",
    "agent = QLearningAgent(alpha=1, discount=0.5)"
   ]
  },
  {
   "cell_type": "code",
   "execution_count": 3,
   "metadata": {},
   "outputs": [],
   "source": [
    "def generate_session(env: Env, agent: QLearningAgent, t_max=1000, train=False):\n",
    "    env.write_log = not train\n",
    "    total_reward = 0\n",
    "    s = env.reset()\n",
    "\n",
    "    game = []\n",
    "\n",
    "    for t in range(t_max):\n",
    "        a = agent.get_action(s)\n",
    "        next_s, r, done = env.step(a)\n",
    "\n",
    "        game.append((s, a, next_s, r, done))\n",
    "\n",
    "        total_reward += r\n",
    "        s = next_s\n",
    "\n",
    "        if done:\n",
    "            if not train: env.finish_log()\n",
    "            break\n",
    "\n",
    "    if train:\n",
    "        for s, a, next_s, r, done in game:\n",
    "            agent.update(s, a, next_s, r, done)\n",
    "\n",
    "    return total_reward"
   ]
  },
  {
   "cell_type": "markdown",
   "metadata": {},
   "source": [
    "# Горячий старт (при необходимости)"
   ]
  },
  {
   "cell_type": "code",
   "execution_count": 4,
   "metadata": {},
   "outputs": [],
   "source": [
    "def hot_start(env: Env, agent: QLearningAgent, ind, t_max=1000):\n",
    "    clear_output()\n",
    "    print(f'start {ind}')\n",
    "    s = env.reset()\n",
    "\n",
    "    for t in range(t_max):\n",
    "        acs = env._get_actions()\n",
    "        for a in acs:\n",
    "            next_s, r, done = env.step(a)\n",
    "            agent.update(s, a, next_s, r, done)\n",
    "            s = next_s\n",
    "            if done: return"
   ]
  },
  {
   "cell_type": "code",
   "execution_count": 5,
   "metadata": {},
   "outputs": [],
   "source": [
    "#for i in range(1000):\n",
    "#    hot_start(env, agent, i)"
   ]
  },
  {
   "cell_type": "markdown",
   "metadata": {},
   "source": [
    "# Обучение"
   ]
  },
  {
   "cell_type": "code",
   "execution_count": null,
   "metadata": {},
   "outputs": [],
   "source": [
    "from IPython.display import clear_output\n",
    "import matplotlib.pyplot as plt\n",
    "from collections import deque\n",
    "\n",
    "for _ in range(100):\n",
    "    agent.epsilon = 1\n",
    "\n",
    "    rewards = deque()\n",
    "    while agent.epsilon > 0.1:\n",
    "        rewards.append(generate_session(env,agent,train=True))\n",
    "        agent.epsilon *= 0.99\n",
    "        clear_output(True)\n",
    "        print(agent.epsilon)\n",
    "        plt.plot(rewards)\n",
    "        plt.show()"
   ]
  },
  {
   "cell_type": "markdown",
   "metadata": {},
   "source": [
    "# Сериализация"
   ]
  },
  {
   "cell_type": "code",
   "execution_count": null,
   "metadata": {},
   "outputs": [],
   "source": [
    "import pickle"
   ]
  },
  {
   "cell_type": "markdown",
   "metadata": {},
   "source": [
    "---\n",
    "### Сохранение обученного агента"
   ]
  },
  {
   "cell_type": "code",
   "execution_count": null,
   "metadata": {},
   "outputs": [],
   "source": [
    "with open('data.pickle', \"wb\") as f:\n",
    "    pickle.dump(agent, f)"
   ]
  },
  {
   "cell_type": "markdown",
   "metadata": {},
   "source": [
    "---\n",
    "### Загрузка сохраненного агента"
   ]
  },
  {
   "cell_type": "code",
   "execution_count": null,
   "metadata": {},
   "outputs": [],
   "source": [
    "agent = pickle.load(open('data.pickle', 'rb'))"
   ]
  },
  {
   "cell_type": "markdown",
   "metadata": {},
   "source": [
    "# Генерация игры с записью в лог для последующей визуализации"
   ]
  },
  {
   "cell_type": "code",
   "execution_count": null,
   "metadata": {},
   "outputs": [],
   "source": [
    "agent.epsilon = 0\n",
    "generate_session(env, agent)"
   ]
  }
 ],
 "metadata": {
  "kernelspec": {
   "display_name": "jupyter",
   "language": "python",
   "name": "python3"
  },
  "language_info": {
   "codemirror_mode": {
    "name": "ipython",
    "version": 3
   },
   "file_extension": ".py",
   "mimetype": "text/x-python",
   "name": "python",
   "nbconvert_exporter": "python",
   "pygments_lexer": "ipython3",
   "version": "3.12.1"
  }
 },
 "nbformat": 4,
 "nbformat_minor": 2
}
